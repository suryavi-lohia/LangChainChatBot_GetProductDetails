{
 "cells": [
  {
   "cell_type": "markdown",
   "id": "610aa460",
   "metadata": {},
   "source": [
    "###### Use Case: Developing a chatbot powered by an LLM (Large Language Model).\n",
    "###### Requirements: 1-Name of the product. 2-Description of the product. 3-Price of the product."
   ]
  },
  {
   "cell_type": "markdown",
   "id": "f0e09432",
   "metadata": {},
   "source": [
    "##### Pre:Requisties\n",
    "##### Import all the libraries and environment variable"
   ]
  },
  {
   "cell_type": "code",
   "execution_count": 34,
   "id": "4ee71925",
   "metadata": {},
   "outputs": [],
   "source": [
    "import os\n",
    "import openai\n",
    "from dotenv import load_dotenv\n",
    "from langchain_openai import ChatOpenAI"
   ]
  },
  {
   "cell_type": "code",
   "execution_count": null,
   "id": "8a081734",
   "metadata": {},
   "outputs": [
    {
     "name": "stdout",
     "output_type": "stream",
     "text": [
      "client=<openai.resources.chat.completions.completions.Completions object at 0x0000021DC0A748A0> async_client=<openai.resources.chat.completions.completions.AsyncCompletions object at 0x0000021DC0A74510> root_client=<openai.OpenAI object at 0x0000021DC0A75A70> root_async_client=<openai.AsyncOpenAI object at 0x0000021DC0A74D60> model_name='o1-mini' temperature=1.0 model_kwargs={} openai_api_key=SecretStr('**********')\n",
      "name='Sprite' description='Sprite Har k aage jeet hai ! just in ' price_usd=7\n",
      "{'name': 'LG 32UN880 UltraFine Display', 'description': 'The LG 32UN880 UltraFine 32-inch monitor offers a stunning 4K UHD resolution with vibrant colors and sharp imagery, making it ideal for both professional and personal use. It features an ergonomic Ergo Stand that provides height, tilt, pivot, and swivel adjustments for optimal viewing comfort. Connectivity options include USB-C for seamless connection to laptops and other devices, as well as HDMI and DisplayPort inputs. The monitor supports HDR10 for enhanced dynamic range and includes built-in speakers for multimedia purposes. Its sleek design and versatile functionality make it a great addition to any workspace.', 'price_usd': 699}\n"
     ]
    }
   ],
   "source": [
    "os.environ[\"OPENAI_API_KEY\"]= os.getenv(\"OPENAI_API_KEY\")\n",
    "\n",
    "os.environ[\"GROQ_API_KEY\"] = os.getenv(\"GROQ_API_KEY\")\n",
    "\n",
    "#Langsmith aTracking and Tracing\n",
    "os.environ[\"LANGCHAIN_API_KEY\"]= os.getenv(\"LANGCHAIN_API_KEY\")\n",
    "os.environ[\"LANGCHAIN_PROJECT\"] = os.getenv(\"LANGCHAIN_PROJECT\")\n",
    "os.environ[\"LANGCHAIN_TRACING_V2\"]=\"true\" #requirement from Langchain doc\n",
    "\n",
    "## building model\n",
    "from langchain_openai import ChatOpenAI\n",
    "\n",
    "llm = ChatOpenAI(model = \"o1-mini\")\n",
    "print(llm)\n",
    "\n",
    "### Pydantic for data validation\n",
    "from pydantic import BaseModel, Field\n",
    "from decimal import Decimal\n",
    "\n",
    "class About_Product(BaseModel):\n",
    "    name:str= Field(description=\"product name\")\n",
    "    description:str = Field(description=\"product description\")\n",
    "    # price:int\n",
    "    price_usd:int =Field(description=\"product price in USD\")\n",
    "    \n",
    "    # can apply conditions\n",
    "\n",
    "item = About_Product(name=\"Sprite\", description=\"Sprite Har k aage jeet hai ! just in \", price_usd=\"7\")\n",
    "\n",
    "from langchain_core.output_parsers import JsonOutputParser\n",
    "from langchain_core.prompts import PromptTemplate\n",
    "output_parser = JsonOutputParser(pydantic_object=About_Product)\n",
    "\n",
    "prompt = PromptTemplate(\n",
    "    template = \"Answer the user query \\n {format_instruction}\\n {query}\\n\",\n",
    "    input_variables = [\"query\"],\n",
    "    partial_variables = {\"format_instruction\": output_parser.get_format_instructions()}\n",
    ")   \n",
    "\n",
    "\n",
    "chain = prompt|llm | output_parser\n",
    "response = chain.invoke({\"query\":  \"tell me about LG monitor screen 32inch \"})\n",
    "print(response)\n"
   ]
  },
  {
   "cell_type": "code",
   "execution_count": null,
   "id": "d6da9dad",
   "metadata": {},
   "outputs": [],
   "source": []
  }
 ],
 "metadata": {
  "kernelspec": {
   "display_name": "Python 3",
   "language": "python",
   "name": "python3"
  },
  "language_info": {
   "codemirror_mode": {
    "name": "ipython",
    "version": 3
   },
   "file_extension": ".py",
   "mimetype": "text/x-python",
   "name": "python",
   "nbconvert_exporter": "python",
   "pygments_lexer": "ipython3",
   "version": "3.13.0"
  }
 },
 "nbformat": 4,
 "nbformat_minor": 5
}
